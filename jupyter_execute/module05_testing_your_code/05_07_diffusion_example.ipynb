{
 "cells": [
  {
   "cell_type": "markdown",
   "metadata": {},
   "source": [
    "# Recap example: Monte-Carlo"
   ]
  },
  {
   "cell_type": "markdown",
   "metadata": {},
   "source": [
    "## Problem: Implement and test a simple Monte-Carlo algorithm\n",
    "\n",
    "Given an input function (energy) and starting point (density) and a temperature $T$: \n",
    "\n",
    "1. Compute energy at current density.\n",
    "1. Move randomly chosen agent randomly left or right.\n",
    "1. Compute second energy.\n",
    "1. Compare the two energies:\n",
    "1. If second energy is lower, accept move.\n",
    "1. $\\beta$ is a parameter which determines how likely\n",
    "   the simulation is to move from a 'less favourable' situation to a 'more favourable' one.\n",
    "1. Compute $P_0=e^{-\\beta (E_1 - E_0)}$ and $P_1$ a random number between 0 and 1,\n",
    "1. If $P_0 > P_1$, do the move anyway.\n",
    "1. Repeat."
   ]
  },
  {
   "cell_type": "markdown",
   "metadata": {},
   "source": [
    "* the algorithm should work for (m)any energy function(s).\n",
    "* there should be separate tests for separate steps! What constitutes a step?\n",
    "* tests for the Monte-Carlo should not depend on other parts of code.\n",
    "* Use [matplotlib](http://matplotlib.org/) to plot density at each iteration, and make an animation"
   ]
  },
  {
   "cell_type": "markdown",
   "metadata": {},
   "source": [
    "**NB.** If you are using the Windows command prompt, you will have to replace all `%%bash` directives in this notebook with `%%cmd` "
   ]
  },
  {
   "cell_type": "markdown",
   "metadata": {
    "collapsed": true
   },
   "source": [
    "## Solution"
   ]
  },
  {
   "cell_type": "markdown",
   "metadata": {},
   "source": [
    "We need to break our problem down into pieces:"
   ]
  },
  {
   "cell_type": "markdown",
   "metadata": {},
   "source": [
    "1. A function to generate a random change: `random_agent()`, `random_direction()`\n",
    "1. A function to compute the energy before the change and after it: `energy()`\n",
    "1. A function to determine the probability of a change given the energy difference (1 if decreases, otherwise based on exponential): `change_density()`\n",
    "1. A function to determine whether to execute a change or not by drawing a random number`accept_change()`\n",
    "1. A method to iterate the above procedure: `step()`"
   ]
  },
  {
   "cell_type": "markdown",
   "metadata": {},
   "source": [
    "Next Step: Think about the possible unit tests"
   ]
  },
  {
   "cell_type": "markdown",
   "metadata": {},
   "source": [
    "1. Input insanity: e.g. density should non-negative integer; testing by giving negative values etc.\n",
    "1. `change_density()`: density is change by a particle hopping left or right? Do all positions have an equal chance of moving?\n",
    "1. `accept_change()` will move be accepted when second energy is lower?\n",
    "1. Make a small test case for the main algorithm. (Hint: by using mocking, we can pre-set who to move where.)"
   ]
  },
  {
   "cell_type": "code",
   "execution_count": 1,
   "metadata": {},
   "outputs": [],
   "source": [
    "%%bash\n",
    "rm -rf DiffusionExample\n",
    "mkdir DiffusionExample"
   ]
  },
  {
   "cell_type": "markdown",
   "metadata": {},
   "source": [
    "**Windows:** You will need to run the following instead\n",
    "    \n",
    "```cmd\n",
    "%%cmd\n",
    "rmdir /s DiffusionExample\n",
    "mkdir DiffusionExample\n",
    "```"
   ]
  },
  {
   "cell_type": "code",
   "execution_count": 2,
   "metadata": {},
   "outputs": [
    {
     "name": "stdout",
     "output_type": "stream",
     "text": [
      "Writing DiffusionExample/MonteCarlo.py\n"
     ]
    }
   ],
   "source": [
    "%%writefile DiffusionExample/MonteCarlo.py\n",
    "import matplotlib.pyplot as plt\n",
    "from numpy import sum, array\n",
    "from numpy.random import randint, choice\n",
    "\n",
    "\n",
    "class MonteCarlo:\n",
    "    \"\"\"A simple Monte Carlo implementation\"\"\"\n",
    "\n",
    "    def __init__(self, energy, density, temperature=1, itermax=1000):\n",
    "        from numpy import any, array\n",
    "\n",
    "        density = array(density)\n",
    "        self.itermax = itermax\n",
    "\n",
    "        if temperature == 0:\n",
    "            raise NotImplementedError(\"Zero temperature not implemented\")\n",
    "        if temperature < 0e0:\n",
    "            raise ValueError(\"Negative temperature makes no sense\")\n",
    "\n",
    "        if len(density) < 2:\n",
    "            raise ValueError(\"Density is too short\")\n",
    "        # of the right kind (integer). Unless it is zero length,\n",
    "        # in which case type does not matter.\n",
    "        if density.dtype.kind != \"i\" and len(density) > 0:\n",
    "            raise TypeError(\"Density should be an array of *integers*.\")\n",
    "        # and the right values (positive or null)\n",
    "        if any(density < 0):\n",
    "            raise ValueError(\"Density should be an array of\" + \"*positive* integers.\")\n",
    "        if density.ndim != 1:\n",
    "            raise ValueError(\n",
    "                \"Density should be an a *1-dimensional*\" + \"array of positive integers.\"\n",
    "            )\n",
    "        if sum(density) == 0:\n",
    "            raise ValueError(\"Density is empty.\")\n",
    "\n",
    "        self.current_energy = energy(density)\n",
    "        self.temperature = temperature\n",
    "        self.density = density\n",
    "\n",
    "    def random_direction(self):\n",
    "        return choice([-1, 1])\n",
    "\n",
    "    def random_agent(self, density):\n",
    "        # Particle index\n",
    "        particle = randint(sum(density))\n",
    "        current = 0\n",
    "        for location, n in enumerate(density):\n",
    "            current += n\n",
    "            if current > particle:\n",
    "                break\n",
    "        return location\n",
    "\n",
    "    def change_density(self, density):\n",
    "        \"\"\"Move one particle left or right.\"\"\"\n",
    "\n",
    "        location = self.random_agent(density)\n",
    "\n",
    "        # Move direction\n",
    "        if density[location] - 1 < 0:\n",
    "            return array(density)\n",
    "        if location == 0:\n",
    "            direction = 1\n",
    "        elif location == len(density) - 1:\n",
    "            direction = -1\n",
    "        else:\n",
    "            direction = self.random_direction()\n",
    "\n",
    "        # Now make change\n",
    "        result = array(density)\n",
    "        result[location] -= 1\n",
    "        result[location + direction] += 1\n",
    "        return result\n",
    "\n",
    "    def accept_change(self, prior, successor):\n",
    "        \"\"\"Returns true if should accept change.\"\"\"\n",
    "        from numpy import exp\n",
    "        from numpy.random import uniform\n",
    "\n",
    "        if successor <= prior:\n",
    "            return True\n",
    "        else:\n",
    "            return exp(-(successor - prior) / self.temperature) > uniform()\n",
    "\n",
    "    def step(self):\n",
    "        iteration = 0\n",
    "        while iteration < self.itermax:\n",
    "            new_density = self.change_density(self.density)\n",
    "            new_energy = energy(new_density)\n",
    "\n",
    "            accept = self.accept_change(self.current_energy, new_energy)\n",
    "            if accept:\n",
    "                self.density, self.current_energy = new_density, new_energy\n",
    "            iteration += 1\n",
    "\n",
    "        return self.current_energy, self.density\n",
    "\n",
    "\n",
    "def energy(density, coefficient=1):\n",
    "    \"\"\"Energy associated with the diffusion model\n",
    "    :Parameters:\n",
    "    density: array of positive integers\n",
    "    Number of particles at each position i in the array/geometry\n",
    "    \"\"\"\n",
    "    from numpy import array, any, sum\n",
    "\n",
    "    # Make sure input is an array\n",
    "    density = array(density)\n",
    "\n",
    "    # of the right kind (integer). Unless it is zero length, in which case type does not matter.\n",
    "    if density.dtype.kind != \"i\" and len(density) > 0:\n",
    "        raise TypeError(\"Density should be an array of *integers*.\")\n",
    "    # and the right values (positive or null)\n",
    "    if any(density < 0):\n",
    "        raise ValueError(\"Density should be an array\" + \"of *positive* integers.\")\n",
    "    if density.ndim != 1:\n",
    "        raise ValueError(\n",
    "            \"Density should be an a *1-dimensional*\" + \"array of positive integers.\"\n",
    "        )\n",
    "\n",
    "    return coefficient * 0.5 * sum(density * (density - 1))"
   ]
  },
  {
   "cell_type": "code",
   "execution_count": 3,
   "metadata": {},
   "outputs": [
    {
     "ename": "KeyboardInterrupt",
     "evalue": "",
     "output_type": "error",
     "traceback": [
      "\u001b[0;31m---------------------------------------------------------------------------\u001b[0m",
      "\u001b[0;31mKeyboardInterrupt\u001b[0m                         Traceback (most recent call last)",
      "\u001b[0;32m/tmp/ipykernel_10773/238497218.py\u001b[0m in \u001b[0;36m<module>\u001b[0;34m\u001b[0m\n\u001b[1;32m     34\u001b[0m \u001b[0;34m\u001b[0m\u001b[0m\n\u001b[1;32m     35\u001b[0m \u001b[0manim\u001b[0m \u001b[0;34m=\u001b[0m \u001b[0manimation\u001b[0m\u001b[0;34m.\u001b[0m\u001b[0mFuncAnimation\u001b[0m\u001b[0;34m(\u001b[0m\u001b[0mfig\u001b[0m\u001b[0;34m,\u001b[0m \u001b[0msimulate\u001b[0m\u001b[0;34m,\u001b[0m \u001b[0mframes\u001b[0m\u001b[0;34m=\u001b[0m\u001b[0;36m200\u001b[0m\u001b[0;34m,\u001b[0m \u001b[0minterval\u001b[0m\u001b[0;34m=\u001b[0m\u001b[0;36m50\u001b[0m\u001b[0;34m)\u001b[0m\u001b[0;34m\u001b[0m\u001b[0;34m\u001b[0m\u001b[0m\n\u001b[0;32m---> 36\u001b[0;31m \u001b[0mHTML\u001b[0m\u001b[0;34m(\u001b[0m\u001b[0manim\u001b[0m\u001b[0;34m.\u001b[0m\u001b[0mto_jshtml\u001b[0m\u001b[0;34m(\u001b[0m\u001b[0;34m)\u001b[0m\u001b[0;34m)\u001b[0m\u001b[0;34m\u001b[0m\u001b[0;34m\u001b[0m\u001b[0m\n\u001b[0m",
      "\u001b[0;32m/opt/hostedtoolcache/Python/3.7.12/x64/lib/python3.7/site-packages/matplotlib/animation.py\u001b[0m in \u001b[0;36mto_jshtml\u001b[0;34m(self, fps, embed_frames, default_mode)\u001b[0m\n\u001b[1;32m   1400\u001b[0m                                     \u001b[0membed_frames\u001b[0m\u001b[0;34m=\u001b[0m\u001b[0membed_frames\u001b[0m\u001b[0;34m,\u001b[0m\u001b[0;34m\u001b[0m\u001b[0;34m\u001b[0m\u001b[0m\n\u001b[1;32m   1401\u001b[0m                                     default_mode=default_mode)\n\u001b[0;32m-> 1402\u001b[0;31m                 \u001b[0mself\u001b[0m\u001b[0;34m.\u001b[0m\u001b[0msave\u001b[0m\u001b[0;34m(\u001b[0m\u001b[0mstr\u001b[0m\u001b[0;34m(\u001b[0m\u001b[0mpath\u001b[0m\u001b[0;34m)\u001b[0m\u001b[0;34m,\u001b[0m \u001b[0mwriter\u001b[0m\u001b[0;34m=\u001b[0m\u001b[0mwriter\u001b[0m\u001b[0;34m)\u001b[0m\u001b[0;34m\u001b[0m\u001b[0;34m\u001b[0m\u001b[0m\n\u001b[0m\u001b[1;32m   1403\u001b[0m                 \u001b[0mself\u001b[0m\u001b[0;34m.\u001b[0m\u001b[0m_html_representation\u001b[0m \u001b[0;34m=\u001b[0m \u001b[0mpath\u001b[0m\u001b[0;34m.\u001b[0m\u001b[0mread_text\u001b[0m\u001b[0;34m(\u001b[0m\u001b[0;34m)\u001b[0m\u001b[0;34m\u001b[0m\u001b[0;34m\u001b[0m\u001b[0m\n\u001b[1;32m   1404\u001b[0m \u001b[0;34m\u001b[0m\u001b[0m\n",
      "\u001b[0;32m/opt/hostedtoolcache/Python/3.7.12/x64/lib/python3.7/site-packages/matplotlib/animation.py\u001b[0m in \u001b[0;36msave\u001b[0;34m(self, filename, writer, fps, dpi, codec, bitrate, extra_args, metadata, extra_anim, savefig_kwargs, progress_callback)\u001b[0m\n\u001b[1;32m   1171\u001b[0m                 \u001b[0;32mfor\u001b[0m \u001b[0manim\u001b[0m\u001b[0;34m,\u001b[0m \u001b[0md\u001b[0m \u001b[0;32min\u001b[0m \u001b[0mzip\u001b[0m\u001b[0;34m(\u001b[0m\u001b[0mall_anim\u001b[0m\u001b[0;34m,\u001b[0m \u001b[0mdata\u001b[0m\u001b[0;34m)\u001b[0m\u001b[0;34m:\u001b[0m\u001b[0;34m\u001b[0m\u001b[0;34m\u001b[0m\u001b[0m\n\u001b[1;32m   1172\u001b[0m                     \u001b[0;31m# TODO: See if turning off blit is really necessary\u001b[0m\u001b[0;34m\u001b[0m\u001b[0;34m\u001b[0m\u001b[0;34m\u001b[0m\u001b[0m\n\u001b[0;32m-> 1173\u001b[0;31m                     \u001b[0manim\u001b[0m\u001b[0;34m.\u001b[0m\u001b[0m_draw_next_frame\u001b[0m\u001b[0;34m(\u001b[0m\u001b[0md\u001b[0m\u001b[0;34m,\u001b[0m \u001b[0mblit\u001b[0m\u001b[0;34m=\u001b[0m\u001b[0;32mFalse\u001b[0m\u001b[0;34m)\u001b[0m\u001b[0;34m\u001b[0m\u001b[0;34m\u001b[0m\u001b[0m\n\u001b[0m\u001b[1;32m   1174\u001b[0m                     \u001b[0;32mif\u001b[0m \u001b[0mprogress_callback\u001b[0m \u001b[0;32mis\u001b[0m \u001b[0;32mnot\u001b[0m \u001b[0;32mNone\u001b[0m\u001b[0;34m:\u001b[0m\u001b[0;34m\u001b[0m\u001b[0;34m\u001b[0m\u001b[0m\n\u001b[1;32m   1175\u001b[0m                         \u001b[0mprogress_callback\u001b[0m\u001b[0;34m(\u001b[0m\u001b[0mframe_number\u001b[0m\u001b[0;34m,\u001b[0m \u001b[0mtotal_frames\u001b[0m\u001b[0;34m)\u001b[0m\u001b[0;34m\u001b[0m\u001b[0;34m\u001b[0m\u001b[0m\n",
      "\u001b[0;32m/opt/hostedtoolcache/Python/3.7.12/x64/lib/python3.7/site-packages/matplotlib/animation.py\u001b[0m in \u001b[0;36m_draw_next_frame\u001b[0;34m(self, framedata, blit)\u001b[0m\n\u001b[1;32m   1206\u001b[0m         \u001b[0;31m# post- draw, as well as the drawing of the frame itself.\u001b[0m\u001b[0;34m\u001b[0m\u001b[0;34m\u001b[0m\u001b[0;34m\u001b[0m\u001b[0m\n\u001b[1;32m   1207\u001b[0m         \u001b[0mself\u001b[0m\u001b[0;34m.\u001b[0m\u001b[0m_pre_draw\u001b[0m\u001b[0;34m(\u001b[0m\u001b[0mframedata\u001b[0m\u001b[0;34m,\u001b[0m \u001b[0mblit\u001b[0m\u001b[0;34m)\u001b[0m\u001b[0;34m\u001b[0m\u001b[0;34m\u001b[0m\u001b[0m\n\u001b[0;32m-> 1208\u001b[0;31m         \u001b[0mself\u001b[0m\u001b[0;34m.\u001b[0m\u001b[0m_draw_frame\u001b[0m\u001b[0;34m(\u001b[0m\u001b[0mframedata\u001b[0m\u001b[0;34m)\u001b[0m\u001b[0;34m\u001b[0m\u001b[0;34m\u001b[0m\u001b[0m\n\u001b[0m\u001b[1;32m   1209\u001b[0m         \u001b[0mself\u001b[0m\u001b[0;34m.\u001b[0m\u001b[0m_post_draw\u001b[0m\u001b[0;34m(\u001b[0m\u001b[0mframedata\u001b[0m\u001b[0;34m,\u001b[0m \u001b[0mblit\u001b[0m\u001b[0;34m)\u001b[0m\u001b[0;34m\u001b[0m\u001b[0;34m\u001b[0m\u001b[0m\n\u001b[1;32m   1210\u001b[0m \u001b[0;34m\u001b[0m\u001b[0m\n",
      "\u001b[0;32m/opt/hostedtoolcache/Python/3.7.12/x64/lib/python3.7/site-packages/matplotlib/animation.py\u001b[0m in \u001b[0;36m_draw_frame\u001b[0;34m(self, framedata)\u001b[0m\n\u001b[1;32m   1774\u001b[0m         \u001b[0;31m# Call the func with framedata and args. If blitting is desired,\u001b[0m\u001b[0;34m\u001b[0m\u001b[0;34m\u001b[0m\u001b[0;34m\u001b[0m\u001b[0m\n\u001b[1;32m   1775\u001b[0m         \u001b[0;31m# func needs to return a sequence of any artists that were modified.\u001b[0m\u001b[0;34m\u001b[0m\u001b[0;34m\u001b[0m\u001b[0;34m\u001b[0m\u001b[0m\n\u001b[0;32m-> 1776\u001b[0;31m         \u001b[0mself\u001b[0m\u001b[0;34m.\u001b[0m\u001b[0m_drawn_artists\u001b[0m \u001b[0;34m=\u001b[0m \u001b[0mself\u001b[0m\u001b[0;34m.\u001b[0m\u001b[0m_func\u001b[0m\u001b[0;34m(\u001b[0m\u001b[0mframedata\u001b[0m\u001b[0;34m,\u001b[0m \u001b[0;34m*\u001b[0m\u001b[0mself\u001b[0m\u001b[0;34m.\u001b[0m\u001b[0m_args\u001b[0m\u001b[0;34m)\u001b[0m\u001b[0;34m\u001b[0m\u001b[0;34m\u001b[0m\u001b[0m\n\u001b[0m\u001b[1;32m   1777\u001b[0m \u001b[0;34m\u001b[0m\u001b[0m\n\u001b[1;32m   1778\u001b[0m         \u001b[0;32mif\u001b[0m \u001b[0mself\u001b[0m\u001b[0;34m.\u001b[0m\u001b[0m_blit\u001b[0m\u001b[0;34m:\u001b[0m\u001b[0;34m\u001b[0m\u001b[0;34m\u001b[0m\u001b[0m\n",
      "\u001b[0;32m/tmp/ipykernel_10773/238497218.py\u001b[0m in \u001b[0;36msimulate\u001b[0;34m(step)\u001b[0m\n\u001b[1;32m     28\u001b[0m \u001b[0;34m\u001b[0m\u001b[0m\n\u001b[1;32m     29\u001b[0m \u001b[0;32mdef\u001b[0m \u001b[0msimulate\u001b[0m\u001b[0;34m(\u001b[0m\u001b[0mstep\u001b[0m\u001b[0;34m)\u001b[0m\u001b[0;34m:\u001b[0m\u001b[0;34m\u001b[0m\u001b[0;34m\u001b[0m\u001b[0m\n\u001b[0;32m---> 30\u001b[0;31m     \u001b[0menergy\u001b[0m\u001b[0;34m,\u001b[0m \u001b[0mdensity\u001b[0m \u001b[0;34m=\u001b[0m \u001b[0mmc\u001b[0m\u001b[0;34m.\u001b[0m\u001b[0mstep\u001b[0m\u001b[0;34m(\u001b[0m\u001b[0;34m)\u001b[0m\u001b[0;34m\u001b[0m\u001b[0;34m\u001b[0m\u001b[0m\n\u001b[0m\u001b[1;32m     31\u001b[0m     \u001b[0mimage\u001b[0m\u001b[0;34m.\u001b[0m\u001b[0mset_offsets\u001b[0m\u001b[0;34m(\u001b[0m\u001b[0mnp\u001b[0m\u001b[0;34m.\u001b[0m\u001b[0mvstack\u001b[0m\u001b[0;34m(\u001b[0m\u001b[0;34m(\u001b[0m\u001b[0mrange\u001b[0m\u001b[0;34m(\u001b[0m\u001b[0mlen\u001b[0m\u001b[0;34m(\u001b[0m\u001b[0mdensity\u001b[0m\u001b[0;34m)\u001b[0m\u001b[0;34m)\u001b[0m\u001b[0;34m,\u001b[0m \u001b[0mdensity\u001b[0m\u001b[0;34m)\u001b[0m\u001b[0;34m)\u001b[0m\u001b[0;34m.\u001b[0m\u001b[0mT\u001b[0m\u001b[0;34m)\u001b[0m\u001b[0;34m\u001b[0m\u001b[0;34m\u001b[0m\u001b[0m\n\u001b[1;32m     32\u001b[0m     \u001b[0mtxt_energy\u001b[0m\u001b[0;34m.\u001b[0m\u001b[0mset_text\u001b[0m\u001b[0;34m(\u001b[0m\u001b[0;34m\"Energy = {}\"\u001b[0m\u001b[0;34m.\u001b[0m\u001b[0mformat\u001b[0m\u001b[0;34m(\u001b[0m\u001b[0menergy\u001b[0m\u001b[0;34m)\u001b[0m\u001b[0;34m)\u001b[0m\u001b[0;34m\u001b[0m\u001b[0;34m\u001b[0m\u001b[0m\n",
      "\u001b[0;32m~/work/rsd-engineeringcourse/rsd-engineeringcourse/module05_testing_your_code/DiffusionExample/MonteCarlo.py\u001b[0m in \u001b[0;36mstep\u001b[0;34m(self)\u001b[0m\n\u001b[1;32m     88\u001b[0m             \u001b[0mnew_energy\u001b[0m \u001b[0;34m=\u001b[0m \u001b[0menergy\u001b[0m\u001b[0;34m(\u001b[0m\u001b[0mnew_density\u001b[0m\u001b[0;34m)\u001b[0m\u001b[0;34m\u001b[0m\u001b[0;34m\u001b[0m\u001b[0m\n\u001b[1;32m     89\u001b[0m \u001b[0;34m\u001b[0m\u001b[0m\n\u001b[0;32m---> 90\u001b[0;31m             \u001b[0maccept\u001b[0m \u001b[0;34m=\u001b[0m \u001b[0mself\u001b[0m\u001b[0;34m.\u001b[0m\u001b[0maccept_change\u001b[0m\u001b[0;34m(\u001b[0m\u001b[0mself\u001b[0m\u001b[0;34m.\u001b[0m\u001b[0mcurrent_energy\u001b[0m\u001b[0;34m,\u001b[0m \u001b[0mnew_energy\u001b[0m\u001b[0;34m)\u001b[0m\u001b[0;34m\u001b[0m\u001b[0;34m\u001b[0m\u001b[0m\n\u001b[0m\u001b[1;32m     91\u001b[0m             \u001b[0;32mif\u001b[0m \u001b[0maccept\u001b[0m\u001b[0;34m:\u001b[0m\u001b[0;34m\u001b[0m\u001b[0;34m\u001b[0m\u001b[0m\n\u001b[1;32m     92\u001b[0m                 \u001b[0mself\u001b[0m\u001b[0;34m.\u001b[0m\u001b[0mdensity\u001b[0m\u001b[0;34m,\u001b[0m \u001b[0mself\u001b[0m\u001b[0;34m.\u001b[0m\u001b[0mcurrent_energy\u001b[0m \u001b[0;34m=\u001b[0m \u001b[0mnew_density\u001b[0m\u001b[0;34m,\u001b[0m \u001b[0mnew_energy\u001b[0m\u001b[0;34m\u001b[0m\u001b[0;34m\u001b[0m\u001b[0m\n",
      "\u001b[0;32m~/work/rsd-engineeringcourse/rsd-engineeringcourse/module05_testing_your_code/DiffusionExample/MonteCarlo.py\u001b[0m in \u001b[0;36maccept_change\u001b[0;34m(self, prior, successor)\u001b[0m\n\u001b[1;32m     74\u001b[0m     \u001b[0;32mdef\u001b[0m \u001b[0maccept_change\u001b[0m\u001b[0;34m(\u001b[0m\u001b[0mself\u001b[0m\u001b[0;34m,\u001b[0m \u001b[0mprior\u001b[0m\u001b[0;34m,\u001b[0m \u001b[0msuccessor\u001b[0m\u001b[0;34m)\u001b[0m\u001b[0;34m:\u001b[0m\u001b[0;34m\u001b[0m\u001b[0;34m\u001b[0m\u001b[0m\n\u001b[1;32m     75\u001b[0m         \u001b[0;34m\"\"\"Returns true if should accept change.\"\"\"\u001b[0m\u001b[0;34m\u001b[0m\u001b[0;34m\u001b[0m\u001b[0m\n\u001b[0;32m---> 76\u001b[0;31m         \u001b[0;32mfrom\u001b[0m \u001b[0mnumpy\u001b[0m \u001b[0;32mimport\u001b[0m \u001b[0mexp\u001b[0m\u001b[0;34m\u001b[0m\u001b[0;34m\u001b[0m\u001b[0m\n\u001b[0m\u001b[1;32m     77\u001b[0m         \u001b[0;32mfrom\u001b[0m \u001b[0mnumpy\u001b[0m\u001b[0;34m.\u001b[0m\u001b[0mrandom\u001b[0m \u001b[0;32mimport\u001b[0m \u001b[0muniform\u001b[0m\u001b[0;34m\u001b[0m\u001b[0;34m\u001b[0m\u001b[0m\n\u001b[1;32m     78\u001b[0m \u001b[0;34m\u001b[0m\u001b[0m\n",
      "\u001b[0;32m/opt/hostedtoolcache/Python/3.7.12/x64/lib/python3.7/importlib/_bootstrap.py\u001b[0m in \u001b[0;36m_handle_fromlist\u001b[0;34m(module, fromlist, import_, recursive)\u001b[0m\n",
      "\u001b[0;31mKeyboardInterrupt\u001b[0m: "
     ]
    },
    {
     "data": {
      "image/png": "[encoded data removed]",
      "text/plain": [
       "<Figure size 432x288 with 1 Axes>"
      ]
     },
     "metadata": {
      "filenames": {
       "image/png": "/home/runner/work/rsd-engineeringcourse/rsd-engineeringcourse/_build/jupyter_execute/module05_testing_your_code/05_07_diffusion_example_12_1.png"
      },
      "needs_background": "light"
     },
     "output_type": "display_data"
    }
   ],
   "source": [
    "import sys\n",
    "\n",
    "sys.path.append(\"DiffusionExample\")\n",
    "from MonteCarlo import MonteCarlo, energy\n",
    "import numpy as np\n",
    "import numpy.random as random\n",
    "from matplotlib import animation\n",
    "from matplotlib import pyplot as plt\n",
    "from IPython.display import HTML\n",
    "\n",
    "\n",
    "Temperature = 0.1\n",
    "\n",
    "density = [np.sin(i) for i in np.linspace(0.1, 3, 100)]\n",
    "density = np.array(density) * 100\n",
    "density = density.astype(int)\n",
    "\n",
    "fig = plt.figure()\n",
    "ax = plt.axes(xlim=(-1, len(density)), ylim=(0, np.max(density) + 1))\n",
    "image = ax.scatter(range(len(density)), density)\n",
    "txt_energy = plt.text(0, 100, \"Energy = 0\")\n",
    "plt.xlabel(\"Temperature = 0.1\")\n",
    "plt.ylabel(\"Energy Density\")\n",
    "\n",
    "\n",
    "mc = MonteCarlo(energy, density, temperature=Temperature)\n",
    "\n",
    "\n",
    "def simulate(step):\n",
    "    energy, density = mc.step()\n",
    "    image.set_offsets(np.vstack((range(len(density)), density)).T)\n",
    "    txt_energy.set_text(\"Energy = {}\".format(energy))\n",
    "\n",
    "\n",
    "anim = animation.FuncAnimation(fig, simulate, frames=200, interval=50)\n",
    "HTML(anim.to_jshtml())"
   ]
  },
  {
   "cell_type": "code",
   "execution_count": 4,
   "metadata": {},
   "outputs": [
    {
     "name": "stdout",
     "output_type": "stream",
     "text": [
      "Writing DiffusionExample/test_model.py\n"
     ]
    }
   ],
   "source": [
    "%%writefile DiffusionExample/test_model.py\n",
    "from MonteCarlo import MonteCarlo\n",
    "from unittest.mock import MagicMock\n",
    "from pytest import raises, approx\n",
    "\n",
    "\n",
    "def test_input_sanity():\n",
    "    \"\"\"Check incorrect input do fail\"\"\"\n",
    "    energy = MagicMock()\n",
    "\n",
    "    with raises(NotImplementedError) as exception:\n",
    "        MonteCarlo(sum, [1, 1, 1], 0e0)\n",
    "    with raises(ValueError) as exception:\n",
    "        MonteCarlo(energy, [1, 1, 1], temperature=-1e0)\n",
    "\n",
    "    with raises(TypeError) as exception:\n",
    "        MonteCarlo(energy, [1.0, 2, 3])\n",
    "    with raises(ValueError) as exception:\n",
    "        MonteCarlo(energy, [-1, 2, 3])\n",
    "    with raises(ValueError) as exception:\n",
    "        MonteCarlo(energy, [[1, 2, 3], [3, 4, 5]])\n",
    "    with raises(ValueError) as exception:\n",
    "        MonteCarlo(energy, [3])\n",
    "    with raises(ValueError) as exception:\n",
    "        MonteCarlo(energy, [0, 0])\n",
    "\n",
    "\n",
    "def test_move_particle_one_over():\n",
    "    \"\"\"Check density is change by a particle hopping left or right.\"\"\"\n",
    "    from numpy import nonzero, multiply\n",
    "    from numpy.random import randint\n",
    "\n",
    "    energy = MagicMock()\n",
    "\n",
    "    for i in range(100):\n",
    "        # Do this n times, to avoid\n",
    "        # issues with random numbers\n",
    "        # Create density\n",
    "\n",
    "        density = randint(50, size=randint(2, 6))\n",
    "        mc = MonteCarlo(energy, density)\n",
    "        # Change it\n",
    "        new_density = mc.change_density(density)\n",
    "\n",
    "        # Make sure any movement is by one\n",
    "        indices = nonzero(density - new_density)[0]\n",
    "        assert len(indices) == 2, \"densities differ in two places\"\n",
    "        assert (\n",
    "            multiply.reduce((density - new_density)[indices]) == -1\n",
    "        ), \"densities differ by + and - 1\"\n",
    "\n",
    "\n",
    "def test_equal_probability():\n",
    "    \"\"\"Check particles have equal probability of movement.\"\"\"\n",
    "    from numpy import array, sqrt, count_nonzero\n",
    "\n",
    "    energy = MagicMock()\n",
    "\n",
    "    density = array([1, 0, 99])\n",
    "    mc = MonteCarlo(energy, density)\n",
    "    changes_at_zero = [\n",
    "        (density - mc.change_density(density))[0] != 0 for i in range(10000)\n",
    "    ]\n",
    "    assert count_nonzero(changes_at_zero) == approx(\n",
    "        0.01 * len(changes_at_zero), 0.5 * sqrt(len(changes_at_zero))\n",
    "    )\n",
    "\n",
    "\n",
    "def test_accept_change():\n",
    "    \"\"\"Check that move is accepted if second energy is lower\"\"\"\n",
    "    from numpy import sqrt, count_nonzero, exp\n",
    "\n",
    "    energy = MagicMock()\n",
    "    mc = MonteCarlo(energy, [1, 1, 1], temperature=100.0)\n",
    "    # Should always be true.\n",
    "    # But do more than one draw,\n",
    "    # in case randomness incorrectly crept into\n",
    "    # implementation\n",
    "    for i in range(10):\n",
    "        assert mc.accept_change(0.5, 0.4)\n",
    "        assert mc.accept_change(0.5, 0.5)\n",
    "\n",
    "    # This should be accepted only part of the time,\n",
    "    # depending on exponential distribution\n",
    "    prior, successor = 0.4, 0.5\n",
    "    accepted = [mc.accept_change(prior, successor) for i in range(10000)]\n",
    "    assert count_nonzero(accepted) / float(len(accepted)) == approx(\n",
    "        exp(-(successor - prior) / mc.temperature), 3e0 / sqrt(len(accepted))\n",
    "    )\n",
    "\n",
    "\n",
    "def test_main_algorithm():\n",
    "    import numpy as np\n",
    "    from numpy import testing\n",
    "    from unittest.mock import Mock\n",
    "\n",
    "    density = [1, 1, 1, 1, 1]\n",
    "    energy = MagicMock()\n",
    "    mc = MonteCarlo(energy, density, itermax=5)\n",
    "\n",
    "    acceptance = [True, True, True, True, True]\n",
    "    mc.accept_change = Mock(side_effect=acceptance)\n",
    "    mc.random_agent = Mock(side_effect=[0, 1, 2, 3, 4])\n",
    "    mc.random_direction = Mock(side_effect=[1, 1, 1, 1, -1])\n",
    "    np.testing.assert_equal(mc.step()[1], [0, 1, 1, 2, 1])"
   ]
  },
  {
   "cell_type": "code",
   "execution_count": 5,
   "metadata": {},
   "outputs": [
    {
     "name": "stdout",
     "output_type": "stream",
     "text": [
      "============================= test session starts ==============================\n",
      "platform darwin -- Python 3.7.9, pytest-6.2.4, py-1.10.0, pluggy-0.13.1\n",
      "rootdir:/home/turingdev/projects/rsd-engineering/rsd-engineeringcourse/ch03tests/DiffusionExample\n",
      "plugins: cov-2.12.1, anyio-3.3.0\n",
      "collected 5 items\n",
      "\n",
      "test_model.py .....                                                      [100%]\n",
      "\n",
      "============================== 5 passed in 1.51s ===============================\n"
     ]
    }
   ],
   "source": [
    "%%bash\n",
    "cd DiffusionExample\n",
    "py.test"
   ]
  }
 ],
 "metadata": {
  "jekyll": {
   "display_name": "Diffusion Example"
  },
  "kernelspec": {
   "display_name": "Python 3 (ipykernel)",
   "language": "python",
   "name": "python3"
  },
  "language_info": {
   "codemirror_mode": {
    "name": "ipython",
    "version": 3
   },
   "file_extension": ".py",
   "mimetype": "text/x-python",
   "name": "python",
   "nbconvert_exporter": "python",
   "pygments_lexer": "ipython3",
   "version": "3.7.12"
  }
 },
 "nbformat": 4,
 "nbformat_minor": 1
}