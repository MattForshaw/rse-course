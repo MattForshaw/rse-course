{
 "cells": [
  {
   "cell_type": "markdown",
   "metadata": {},
   "source": [
    "# Debugging With Git Bisect\n",
    "\n",
    "You can use\n",
    "\n",
    "``` bash\n",
    "git bisect\n",
    "```\n",
    "\n",
    "to find out which commit caused a bug."
   ]
  },
  {
   "cell_type": "markdown",
   "metadata": {},
   "source": [
    "## An example repository\n",
    "\n",
    "In a nice open source example, I found an arbitrary exemplar on github"
   ]
  },
  {
   "cell_type": "code",
   "execution_count": 1,
   "metadata": {},
   "outputs": [],
   "source": [
    "import os\n",
    "\n",
    "top_dir = os.getcwd()\n",
    "git_dir = os.path.join(top_dir, \"learning_git\")\n",
    "os.chdir(git_dir)"
   ]
  },
  {
   "cell_type": "code",
   "execution_count": 2,
   "metadata": {},
   "outputs": [
    {
     "name": "stderr",
     "output_type": "stream",
     "text": [
      "Cloning into 'bisectdemo'...\n"
     ]
    }
   ],
   "source": [
    "%%bash\n",
    "rm -rf bisectdemo\n",
    "git clone https://github.com/shawnsi/bisectdemo.git"
   ]
  },
  {
   "cell_type": "code",
   "execution_count": 3,
   "metadata": {},
   "outputs": [],
   "source": [
    "bisect_dir = os.path.join(git_dir, \"bisectdemo\")\n",
    "os.chdir(bisect_dir)"
   ]
  },
  {
   "cell_type": "code",
   "execution_count": 4,
   "metadata": {
    "attributes": {
     "classes": [
      " bash"
     ],
     "id": ""
    }
   },
   "outputs": [
    {
     "name": "stdout",
     "output_type": "stream",
     "text": [
      "4\n"
     ]
    }
   ],
   "source": [
    "%%bash\n",
    "python squares.py 2 # 4"
   ]
  },
  {
   "cell_type": "markdown",
   "metadata": {},
   "source": [
    "This has been set up to break itself at a random commit, and leave you to use\n",
    "bisect to work out where it has broken:"
   ]
  },
  {
   "cell_type": "code",
   "execution_count": 5,
   "metadata": {
    "attributes": {
     "classes": [
      " bash"
     ],
     "id": ""
    }
   },
   "outputs": [
    {
     "name": "stderr",
     "output_type": "stream",
     "text": [
      "error: branch 'buggy' not found.\n",
      "Switched to a new branch 'buggy'\n"
     ]
    }
   ],
   "source": [
    "%%bash \n",
    "./breakme.sh > break_output"
   ]
  },
  {
   "cell_type": "markdown",
   "metadata": {},
   "source": [
    "Which will make a bunch of commits, of which one is broken, and leave you in the broken final state"
   ]
  },
  {
   "cell_type": "code",
   "execution_count": 6,
   "metadata": {
    "tags": [
     "raises-exception"
    ]
   },
   "outputs": [
    {
     "ename": "SyntaxError",
     "evalue": "invalid syntax (2468026376.py, line 1)",
     "output_type": "error",
     "traceback": [
      "\u001b[0;36m  File \u001b[0;32m\"/tmp/ipykernel_12664/2468026376.py\"\u001b[0;36m, line \u001b[0;32m1\u001b[0m\n\u001b[0;31m    python squares.py 2 # Error message\u001b[0m\n\u001b[0m                 ^\u001b[0m\n\u001b[0;31mSyntaxError\u001b[0m\u001b[0;31m:\u001b[0m invalid syntax\n"
     ]
    }
   ],
   "source": [
    "python squares.py 2 # Error message"
   ]
  },
  {
   "cell_type": "markdown",
   "metadata": {
    "collapsed": true
   },
   "source": [
    "## Bisecting manually"
   ]
  },
  {
   "cell_type": "code",
   "execution_count": 7,
   "metadata": {
    "attributes": {
     "classes": [
      " bash"
     ],
     "id": ""
    }
   },
   "outputs": [
    {
     "name": "stdout",
     "output_type": "stream",
     "text": [
      "Your branch is up to date with 'origin/master'.\n",
      "Bisecting: 500 revisions left to test after this (roughly 9 steps)\n",
      "[a5d45fc07a5f09a43ece75115c74ab7a9a6566ea] Comment 499\n"
     ]
    },
    {
     "name": "stderr",
     "output_type": "stream",
     "text": [
      "Switched to branch 'master'\n"
     ]
    }
   ],
   "source": [
    "%%bash\n",
    "git bisect start\n",
    "git bisect bad # We know the current state is broken\n",
    "git checkout master\n",
    "git bisect good # We know the master branch state is OK"
   ]
  },
  {
   "cell_type": "markdown",
   "metadata": {},
   "source": [
    "Bisect needs one known good and one known bad commit to get started"
   ]
  },
  {
   "cell_type": "markdown",
   "metadata": {},
   "source": [
    "## Solving Manually"
   ]
  },
  {
   "cell_type": "markdown",
   "metadata": {
    "attributes": {
     "classes": [
      " bash"
     ],
     "id": ""
    },
    "collapsed": true
   },
   "source": [
    "``` bash\n",
    "python squares.py 2 # 4\n",
    "git bisect good\n",
    "python squares.py 2 # 4\n",
    "git bisect good\n",
    "python squares.py 2 # 4\n",
    "git bisect good\n",
    "python squares.py 2 # Crash\n",
    "git bisect bad\n",
    "python squares.py 2 # Crash\n",
    "git bisect bad\n",
    "python squares.py 2 # Crash\n",
    "git bisect bad\n",
    "python squares.py 2 #Crash\n",
    "git bisect bad\n",
    "python squares.py 2 # 4\n",
    "git bisect good\n",
    "python squares.py 2 # 4\n",
    "git bisect good\n",
    "python squares.py 2 # 4\n",
    "git bisect good\n",
    "```\n"
   ]
  },
  {
   "cell_type": "markdown",
   "metadata": {},
   "source": [
    "And eventually:"
   ]
  },
  {
   "cell_type": "markdown",
   "metadata": {
    "attributes": {
     "classes": [
      " bash"
     ],
     "id": ""
    },
    "collapsed": true
   },
   "source": [
    "``` bash\n",
    "git bisect good\n",
    "    Bisecting: 0 revisions left to test after this (roughly 0 steps)\n",
    "\n",
    "python squares.py 2\n",
    "    4\n",
    "\n",
    "git bisect good\n",
    "2777975a2334c2396ccb9faf98ab149824ec465b is the first bad commit\n",
    "commit 2777975a2334c2396ccb9faf98ab149824ec465b\n",
    "Author: Shawn Siefkas <shawn.siefkas@meredith.com>\n",
    "Date:   Thu Nov 14 09:23:55 2013 -0600\n",
    "\n",
    "    Breaking argument type\n",
    "\n",
    "```"
   ]
  },
  {
   "cell_type": "markdown",
   "metadata": {},
   "source": [
    "``` bash\n",
    "git bisect end\n",
    "```"
   ]
  },
  {
   "cell_type": "markdown",
   "metadata": {},
   "source": [
    "## Solving automatically\n",
    "\n",
    "If we have an appropriate unit test, we can do all this automatically:"
   ]
  },
  {
   "cell_type": "code",
   "execution_count": 8,
   "metadata": {
    "attributes": {
     "classes": [
      " bash"
     ],
     "id": ""
    }
   },
   "outputs": [
    {
     "name": "stdout",
     "output_type": "stream",
     "text": [
      "Bisecting: 500 revisions left to test after this (roughly 9 steps)\n",
      "[a5d45fc07a5f09a43ece75115c74ab7a9a6566ea] Comment 499\n",
      "running  'python' 'squares.py' '2'\n",
      "Bisecting: 249 revisions left to test after this (roughly 8 steps)\n",
      "[4a56fa07652ce3183abc1f547ecef4ff9a1f5ae0] Comment 249\n",
      "running  'python' 'squares.py' '2'\n",
      "Bisecting: 124 revisions left to test after this (roughly 7 steps)\n",
      "[4fdb9bbb80dff74252d3c64e54229356857e9ba4] Comment 125\n",
      "running  'python' 'squares.py' '2'\n",
      "4\n",
      "Bisecting: 62 revisions left to test after this (roughly 6 steps)\n",
      "[c92f056c54c68e21b295e7426a5ff883b2efd5b0] Comment 186\n",
      "running  'python' 'squares.py' '2'\n",
      "Bisecting: 30 revisions left to test after this (roughly 5 steps)\n",
      "[b9a6456a323e71f110b7b44a8650d5c9944ecdaa] Comment 156\n",
      "running  'python' 'squares.py' '2'\n",
      "4\n",
      "Bisecting: 15 revisions left to test after this (roughly 4 steps)\n",
      "[d05106caa2b467bf64e160ca87a730d459c232c8] Comment 170\n",
      "running  'python' 'squares.py' '2'\n",
      "Bisecting: 7 revisions left to test after this (roughly 3 steps)\n",
      "[e27c3161ef4043930ce6b51da43c1fc5ce7b53f5] Comment 163\n",
      "running  'python' 'squares.py' '2'\n",
      "4\n",
      "Bisecting: 3 revisions left to test after this (roughly 2 steps)\n",
      "[ae05038f114c6d027c40fe74f5d89162e3d67aee] Comment 166\n",
      "running  'python' 'squares.py' '2'\n",
      "Bisecting: 1 revision left to test after this (roughly 1 step)\n",
      "[77a7615cc8b6123d6c98f22659b944d27e63b919] Breaking argument type\n",
      "running  'python' 'squares.py' '2'\n",
      "Bisecting: 0 revisions left to test after this (roughly 0 steps)\n",
      "[e622b4ba08ef2dd28aa6f07dc2c449f8ff4c6a50] Comment 164\n",
      "running  'python' 'squares.py' '2'\n",
      "4\n",
      "77a7615cc8b6123d6c98f22659b944d27e63b919 is the first bad commit\n",
      "commit 77a7615cc8b6123d6c98f22659b944d27e63b919\n",
      "Author: Shawn Siefkas <shawn.siefkas@meredith.com>\n",
      "Date:   Thu Nov 14 09:23:55 2013 -0600\n",
      "\n",
      "    Breaking argument type\n",
      "\n",
      " squares.py | 2 +-\n",
      " 1 file changed, 1 insertion(+), 1 deletion(-)\n",
      "bisect found first bad commit"
     ]
    },
    {
     "name": "stderr",
     "output_type": "stream",
     "text": [
      "Previous HEAD position was a5d45fc Comment 499\n",
      "Switched to branch 'buggy'\n",
      "Traceback (most recent call last):\n",
      "  File \"squares.py\", line 9, in <module>\n",
      "    print(integer**2)\n",
      "TypeError: unsupported operand type(s) for ** or pow(): 'str' and 'int'\n",
      "Traceback (most recent call last):\n",
      "  File \"squares.py\", line 9, in <module>\n",
      "    print(integer**2)\n",
      "TypeError: unsupported operand type(s) for ** or pow(): 'str' and 'int'\n",
      "Traceback (most recent call last):\n",
      "  File \"squares.py\", line 9, in <module>\n",
      "    print(integer**2)\n",
      "TypeError: unsupported operand type(s) for ** or pow(): 'str' and 'int'\n",
      "Traceback (most recent call last):\n",
      "  File \"squares.py\", line 9, in <module>\n",
      "    print(integer**2)\n",
      "TypeError: unsupported operand type(s) for ** or pow(): 'str' and 'int'\n",
      "Traceback (most recent call last):\n",
      "  File \"squares.py\", line 9, in <module>\n",
      "    print(integer**2)\n",
      "TypeError: unsupported operand type(s) for ** or pow(): 'str' and 'int'\n",
      "Traceback (most recent call last):\n",
      "  File \"squares.py\", line 9, in <module>\n",
      "    print(integer**2)\n",
      "TypeError: unsupported operand type(s) for ** or pow(): 'str' and 'int'\n"
     ]
    }
   ],
   "source": [
    "%%bash\n",
    "git bisect start\n",
    "git bisect bad HEAD # We know the current state is broken\n",
    "git bisect good master # We know master is good\n",
    "git bisect run python squares.py 2"
   ]
  },
  {
   "cell_type": "markdown",
   "metadata": {},
   "source": [
    "Boom!"
   ]
  }
 ],
 "metadata": {
  "jekyll": {
   "display_name": "Bisect"
  },
  "kernelspec": {
   "display_name": "Python 3 (ipykernel)",
   "language": "python",
   "name": "python3"
  },
  "language_info": {
   "codemirror_mode": {
    "name": "ipython",
    "version": 3
   },
   "file_extension": ".py",
   "mimetype": "text/x-python",
   "name": "python",
   "nbconvert_exporter": "python",
   "pygments_lexer": "ipython3",
   "version": "3.7.12"
  }
 },
 "nbformat": 4,
 "nbformat_minor": 1
}