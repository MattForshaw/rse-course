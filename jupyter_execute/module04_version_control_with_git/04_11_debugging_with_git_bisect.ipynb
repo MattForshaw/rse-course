{
 "cells": [
  {
   "cell_type": "markdown",
   "metadata": {},
   "source": [
    "# Debugging With Git Bisect\n",
    "\n",
    "You can use\n",
    "\n",
    "``` bash\n",
    "git bisect\n",
    "```\n",
    "\n",
    "to find out which commit caused a bug."
   ]
  },
  {
   "cell_type": "markdown",
   "metadata": {},
   "source": [
    "## An example repository\n",
    "\n",
    "In a nice open source example, I found an arbitrary exemplar on github"
   ]
  },
  {
   "cell_type": "code",
   "execution_count": 1,
   "metadata": {},
   "outputs": [],
   "source": [
    "import os\n",
    "\n",
    "top_dir = os.getcwd()\n",
    "git_dir = os.path.join(top_dir, \"learning_git\")\n",
    "os.chdir(git_dir)"
   ]
  },
  {
   "cell_type": "code",
   "execution_count": 2,
   "metadata": {},
   "outputs": [
    {
     "name": "stderr",
     "output_type": "stream",
     "text": [
      "Cloning into 'bisectdemo'...\n"
     ]
    }
   ],
   "source": [
    "%%bash\n",
    "rm -rf bisectdemo\n",
    "git clone https://github.com/shawnsi/bisectdemo.git"
   ]
  },
  {
   "cell_type": "code",
   "execution_count": 3,
   "metadata": {},
   "outputs": [],
   "source": [
    "bisect_dir = os.path.join(git_dir, \"bisectdemo\")\n",
    "os.chdir(bisect_dir)"
   ]
  },
  {
   "cell_type": "code",
   "execution_count": 4,
   "metadata": {
    "attributes": {
     "classes": [
      " bash"
     ],
     "id": ""
    }
   },
   "outputs": [
    {
     "name": "stdout",
     "output_type": "stream",
     "text": [
      "4\n"
     ]
    }
   ],
   "source": [
    "%%bash\n",
    "python squares.py 2 # 4"
   ]
  },
  {
   "cell_type": "markdown",
   "metadata": {},
   "source": [
    "This has been set up to break itself at a random commit, and leave you to use\n",
    "bisect to work out where it has broken:"
   ]
  },
  {
   "cell_type": "code",
   "execution_count": 5,
   "metadata": {
    "attributes": {
     "classes": [
      " bash"
     ],
     "id": ""
    }
   },
   "outputs": [
    {
     "name": "stderr",
     "output_type": "stream",
     "text": [
      "error: branch 'buggy' not found.\n",
      "Switched to a new branch 'buggy'\n"
     ]
    }
   ],
   "source": [
    "%%bash \n",
    "./breakme.sh > break_output"
   ]
  },
  {
   "cell_type": "markdown",
   "metadata": {},
   "source": [
    "Which will make a bunch of commits, of which one is broken, and leave you in the broken final state"
   ]
  },
  {
   "cell_type": "code",
   "execution_count": 6,
   "metadata": {
    "tags": [
     "raises-exception"
    ]
   },
   "outputs": [
    {
     "ename": "SyntaxError",
     "evalue": "invalid syntax (777131122.py, line 1)",
     "output_type": "error",
     "traceback": [
      "\u001b[0;36m  File \u001b[0;32m\"/tmp/ipykernel_7537/777131122.py\"\u001b[0;36m, line \u001b[0;32m1\u001b[0m\n\u001b[0;31m    python squares.py 2 # Error message\u001b[0m\n\u001b[0m                 ^\u001b[0m\n\u001b[0;31mSyntaxError\u001b[0m\u001b[0;31m:\u001b[0m invalid syntax\n"
     ]
    }
   ],
   "source": [
    "python squares.py 2 # Error message"
   ]
  },
  {
   "cell_type": "markdown",
   "metadata": {
    "collapsed": true
   },
   "source": [
    "## Bisecting manually"
   ]
  },
  {
   "cell_type": "code",
   "execution_count": 7,
   "metadata": {
    "attributes": {
     "classes": [
      " bash"
     ],
     "id": ""
    }
   },
   "outputs": [
    {
     "name": "stdout",
     "output_type": "stream",
     "text": [
      "Your branch is up to date with 'origin/master'.\n",
      "Bisecting: 500 revisions left to test after this (roughly 9 steps)\n",
      "[9b52963cd909b17564e670686e90256f137f0d6a] Comment 499\n"
     ]
    },
    {
     "name": "stderr",
     "output_type": "stream",
     "text": [
      "Switched to branch 'master'\n"
     ]
    }
   ],
   "source": [
    "%%bash\n",
    "git bisect start\n",
    "git bisect bad # We know the current state is broken\n",
    "git checkout master\n",
    "git bisect good # We know the master branch state is OK"
   ]
  },
  {
   "cell_type": "markdown",
   "metadata": {},
   "source": [
    "Bisect needs one known good and one known bad commit to get started"
   ]
  },
  {
   "cell_type": "markdown",
   "metadata": {},
   "source": [
    "## Solving Manually"
   ]
  },
  {
   "cell_type": "markdown",
   "metadata": {
    "attributes": {
     "classes": [
      " bash"
     ],
     "id": ""
    },
    "collapsed": true
   },
   "source": [
    "``` bash\n",
    "python squares.py 2 # 4\n",
    "git bisect good\n",
    "python squares.py 2 # 4\n",
    "git bisect good\n",
    "python squares.py 2 # 4\n",
    "git bisect good\n",
    "python squares.py 2 # Crash\n",
    "git bisect bad\n",
    "python squares.py 2 # Crash\n",
    "git bisect bad\n",
    "python squares.py 2 # Crash\n",
    "git bisect bad\n",
    "python squares.py 2 #Crash\n",
    "git bisect bad\n",
    "python squares.py 2 # 4\n",
    "git bisect good\n",
    "python squares.py 2 # 4\n",
    "git bisect good\n",
    "python squares.py 2 # 4\n",
    "git bisect good\n",
    "```\n"
   ]
  },
  {
   "cell_type": "markdown",
   "metadata": {},
   "source": [
    "And eventually:"
   ]
  },
  {
   "cell_type": "markdown",
   "metadata": {
    "attributes": {
     "classes": [
      " bash"
     ],
     "id": ""
    },
    "collapsed": true
   },
   "source": [
    "``` bash\n",
    "git bisect good\n",
    "    Bisecting: 0 revisions left to test after this (roughly 0 steps)\n",
    "\n",
    "python squares.py 2\n",
    "    4\n",
    "\n",
    "git bisect good\n",
    "2777975a2334c2396ccb9faf98ab149824ec465b is the first bad commit\n",
    "commit 2777975a2334c2396ccb9faf98ab149824ec465b\n",
    "Author: Shawn Siefkas <shawn.siefkas@meredith.com>\n",
    "Date:   Thu Nov 14 09:23:55 2013 -0600\n",
    "\n",
    "    Breaking argument type\n",
    "\n",
    "```"
   ]
  },
  {
   "cell_type": "markdown",
   "metadata": {},
   "source": [
    "``` bash\n",
    "git bisect end\n",
    "```"
   ]
  },
  {
   "cell_type": "markdown",
   "metadata": {},
   "source": [
    "## Solving automatically\n",
    "\n",
    "If we have an appropriate unit test, we can do all this automatically:"
   ]
  },
  {
   "cell_type": "code",
   "execution_count": 8,
   "metadata": {
    "attributes": {
     "classes": [
      " bash"
     ],
     "id": ""
    }
   },
   "outputs": [
    {
     "name": "stdout",
     "output_type": "stream",
     "text": [
      "Bisecting: 500 revisions left to test after this (roughly 9 steps)\n",
      "[9b52963cd909b17564e670686e90256f137f0d6a] Comment 499\n",
      "running python squares.py 2\n",
      "Bisecting: 249 revisions left to test after this (roughly 8 steps)\n",
      "[20a855a197c970c3d9e4a51f53658f88d08272eb] Comment 249\n",
      "running python squares.py 2\n",
      "Bisecting: 124 revisions left to test after this (roughly 7 steps)\n",
      "[126bc8af350caaf6ff706c426669c16e4e9cf0b6] Comment 125\n",
      "running python squares.py 2\n",
      "4\n",
      "Bisecting: 62 revisions left to test after this (roughly 6 steps)\n",
      "[914dde07c803164c07052400087c66a8f13db8aa] Comment 186\n",
      "running python squares.py 2\n",
      "Bisecting: 30 revisions left to test after this (roughly 5 steps)\n",
      "[7110360c7b95268ef45d8113eb93888d26bcf303] Comment 155\n",
      "running python squares.py 2\n",
      "Bisecting: 15 revisions left to test after this (roughly 4 steps)\n",
      "[29e4ea20545b9ee0642072e5868beb5fd06421de] Comment 139\n",
      "running python squares.py 2\n",
      "Bisecting: 7 revisions left to test after this (roughly 3 steps)\n",
      "[6a54d367ba13c57d76874a7ba9e61e9aac36f83f] Comment 132\n",
      "running python squares.py 2\n",
      "4\n",
      "Bisecting: 3 revisions left to test after this (roughly 2 steps)\n",
      "[754619c184df5fe288914c30685f9a9048d7459e] Comment 135\n",
      "running python squares.py 2\n",
      "Bisecting: 1 revision left to test after this (roughly 1 step)\n",
      "[850f008e2aaf23cce40a0eb83721d4a3ce299348] Breaking argument type\n",
      "running python squares.py 2\n",
      "Bisecting: 0 revisions left to test after this (roughly 0 steps)\n",
      "[c4af0c6032960c61f0b66e2d7ce243416054e2fb] Comment 133\n",
      "running python squares.py 2\n",
      "4\n",
      "850f008e2aaf23cce40a0eb83721d4a3ce299348 is the first bad commit\n",
      "commit 850f008e2aaf23cce40a0eb83721d4a3ce299348\n",
      "Author: Shawn Siefkas <shawn.siefkas@meredith.com>\n",
      "Date:   Thu Nov 14 09:23:55 2013 -0600\n",
      "\n",
      "    Breaking argument type\n",
      "\n",
      " squares.py | 2 +-\n",
      " 1 file changed, 1 insertion(+), 1 deletion(-)\n",
      "bisect run success\n"
     ]
    },
    {
     "name": "stderr",
     "output_type": "stream",
     "text": [
      "Previous HEAD position was 9b52963 Comment 499\n",
      "Switched to branch 'buggy'\n",
      "Traceback (most recent call last):\n",
      "  File \"squares.py\", line 9, in <module>\n",
      "    print(integer**2)\n",
      "TypeError: unsupported operand type(s) for ** or pow(): 'str' and 'int'\n",
      "Traceback (most recent call last):\n",
      "  File \"squares.py\", line 9, in <module>\n",
      "    print(integer**2)\n",
      "TypeError: unsupported operand type(s) for ** or pow(): 'str' and 'int'\n",
      "Traceback (most recent call last):\n",
      "  File \"squares.py\", line 9, in <module>\n",
      "    print(integer**2)\n",
      "TypeError: unsupported operand type(s) for ** or pow(): 'str' and 'int'\n",
      "Traceback (most recent call last):\n",
      "  File \"squares.py\", line 9, in <module>\n",
      "    print(integer**2)\n",
      "TypeError: unsupported operand type(s) for ** or pow(): 'str' and 'int'\n",
      "Traceback (most recent call last):\n",
      "  File \"squares.py\", line 9, in <module>\n",
      "    print(integer**2)\n",
      "TypeError: unsupported operand type(s) for ** or pow(): 'str' and 'int'\n",
      "Traceback (most recent call last):\n",
      "  File \"squares.py\", line 9, in <module>\n",
      "    print(integer**2)\n",
      "TypeError: unsupported operand type(s) for ** or pow(): 'str' and 'int'\n",
      "Traceback (most recent call last):\n",
      "  File \"squares.py\", line 9, in <module>\n",
      "    print(integer**2)\n",
      "TypeError: unsupported operand type(s) for ** or pow(): 'str' and 'int'\n"
     ]
    }
   ],
   "source": [
    "%%bash\n",
    "git bisect start\n",
    "git bisect bad HEAD # We know the current state is broken\n",
    "git bisect good master # We know master is good\n",
    "git bisect run python squares.py 2"
   ]
  },
  {
   "cell_type": "markdown",
   "metadata": {},
   "source": [
    "Boom!"
   ]
  }
 ],
 "metadata": {
  "jekyll": {
   "display_name": "Bisect"
  },
  "kernelspec": {
   "display_name": "Python 3 (ipykernel)",
   "language": "python",
   "name": "python3"
  },
  "language_info": {
   "codemirror_mode": {
    "name": "ipython",
    "version": 3
   },
   "file_extension": ".py",
   "mimetype": "text/x-python",
   "name": "python",
   "nbconvert_exporter": "python",
   "pygments_lexer": "ipython3",
   "version": "3.7.12"
  }
 },
 "nbformat": 4,
 "nbformat_minor": 1
}