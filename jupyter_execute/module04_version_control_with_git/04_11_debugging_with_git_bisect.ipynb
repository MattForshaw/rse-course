{
 "cells": [
  {
   "cell_type": "markdown",
   "metadata": {},
   "source": [
    "# Debugging With Git Bisect\n",
    "\n",
    "You can use\n",
    "\n",
    "``` bash\n",
    "git bisect\n",
    "```\n",
    "\n",
    "to find out which commit caused a bug."
   ]
  },
  {
   "cell_type": "markdown",
   "metadata": {},
   "source": [
    "## An example repository\n",
    "\n",
    "In a nice open source example, I found an arbitrary exemplar on github"
   ]
  },
  {
   "cell_type": "code",
   "execution_count": 1,
   "metadata": {},
   "outputs": [],
   "source": [
    "import os\n",
    "\n",
    "top_dir = os.getcwd()\n",
    "git_dir = os.path.join(top_dir, \"learning_git\")\n",
    "os.chdir(git_dir)"
   ]
  },
  {
   "cell_type": "code",
   "execution_count": 2,
   "metadata": {},
   "outputs": [
    {
     "name": "stderr",
     "output_type": "stream",
     "text": [
      "Cloning into 'bisectdemo'...\n"
     ]
    }
   ],
   "source": [
    "%%bash\n",
    "rm -rf bisectdemo\n",
    "git clone https://github.com/shawnsi/bisectdemo.git"
   ]
  },
  {
   "cell_type": "code",
   "execution_count": 3,
   "metadata": {},
   "outputs": [],
   "source": [
    "bisect_dir = os.path.join(git_dir, \"bisectdemo\")\n",
    "os.chdir(bisect_dir)"
   ]
  },
  {
   "cell_type": "code",
   "execution_count": 4,
   "metadata": {
    "attributes": {
     "classes": [
      " bash"
     ],
     "id": ""
    }
   },
   "outputs": [
    {
     "name": "stdout",
     "output_type": "stream",
     "text": [
      "4\n"
     ]
    }
   ],
   "source": [
    "%%bash\n",
    "python squares.py 2 # 4"
   ]
  },
  {
   "cell_type": "markdown",
   "metadata": {},
   "source": [
    "This has been set up to break itself at a random commit, and leave you to use\n",
    "bisect to work out where it has broken:"
   ]
  },
  {
   "cell_type": "code",
   "execution_count": 5,
   "metadata": {
    "attributes": {
     "classes": [
      " bash"
     ],
     "id": ""
    }
   },
   "outputs": [
    {
     "name": "stderr",
     "output_type": "stream",
     "text": [
      "error: branch 'buggy' not found.\n",
      "Switched to a new branch 'buggy'\n"
     ]
    }
   ],
   "source": [
    "%%bash \n",
    "./breakme.sh > break_output"
   ]
  },
  {
   "cell_type": "markdown",
   "metadata": {},
   "source": [
    "Which will make a bunch of commits, of which one is broken, and leave you in the broken final state"
   ]
  },
  {
   "cell_type": "code",
   "execution_count": 6,
   "metadata": {
    "tags": [
     "raises-exception"
    ]
   },
   "outputs": [
    {
     "ename": "SyntaxError",
     "evalue": "invalid syntax (777131122.py, line 1)",
     "output_type": "error",
     "traceback": [
      "\u001b[0;36m  File \u001b[0;32m\"/tmp/ipykernel_10587/777131122.py\"\u001b[0;36m, line \u001b[0;32m1\u001b[0m\n\u001b[0;31m    python squares.py 2 # Error message\u001b[0m\n\u001b[0m                 ^\u001b[0m\n\u001b[0;31mSyntaxError\u001b[0m\u001b[0;31m:\u001b[0m invalid syntax\n"
     ]
    }
   ],
   "source": [
    "python squares.py 2 # Error message"
   ]
  },
  {
   "cell_type": "markdown",
   "metadata": {
    "collapsed": true
   },
   "source": [
    "## Bisecting manually"
   ]
  },
  {
   "cell_type": "code",
   "execution_count": 7,
   "metadata": {
    "attributes": {
     "classes": [
      " bash"
     ],
     "id": ""
    }
   },
   "outputs": [
    {
     "name": "stdout",
     "output_type": "stream",
     "text": [
      "Your branch is up to date with 'origin/master'.\n",
      "Bisecting: 500 revisions left to test after this (roughly 9 steps)\n",
      "[2f82f9995bbbe7e434f734a7f070cbe9b49b5ab3] Comment 500\n"
     ]
    },
    {
     "name": "stderr",
     "output_type": "stream",
     "text": [
      "Switched to branch 'master'\n"
     ]
    }
   ],
   "source": [
    "%%bash\n",
    "git bisect start\n",
    "git bisect bad # We know the current state is broken\n",
    "git checkout master\n",
    "git bisect good # We know the master branch state is OK"
   ]
  },
  {
   "cell_type": "markdown",
   "metadata": {},
   "source": [
    "Bisect needs one known good and one known bad commit to get started"
   ]
  },
  {
   "cell_type": "markdown",
   "metadata": {},
   "source": [
    "## Solving Manually"
   ]
  },
  {
   "cell_type": "markdown",
   "metadata": {
    "attributes": {
     "classes": [
      " bash"
     ],
     "id": ""
    },
    "collapsed": true
   },
   "source": [
    "``` bash\n",
    "python squares.py 2 # 4\n",
    "git bisect good\n",
    "python squares.py 2 # 4\n",
    "git bisect good\n",
    "python squares.py 2 # 4\n",
    "git bisect good\n",
    "python squares.py 2 # Crash\n",
    "git bisect bad\n",
    "python squares.py 2 # Crash\n",
    "git bisect bad\n",
    "python squares.py 2 # Crash\n",
    "git bisect bad\n",
    "python squares.py 2 #Crash\n",
    "git bisect bad\n",
    "python squares.py 2 # 4\n",
    "git bisect good\n",
    "python squares.py 2 # 4\n",
    "git bisect good\n",
    "python squares.py 2 # 4\n",
    "git bisect good\n",
    "```\n"
   ]
  },
  {
   "cell_type": "markdown",
   "metadata": {},
   "source": [
    "And eventually:"
   ]
  },
  {
   "cell_type": "markdown",
   "metadata": {
    "attributes": {
     "classes": [
      " bash"
     ],
     "id": ""
    },
    "collapsed": true
   },
   "source": [
    "``` bash\n",
    "git bisect good\n",
    "    Bisecting: 0 revisions left to test after this (roughly 0 steps)\n",
    "\n",
    "python squares.py 2\n",
    "    4\n",
    "\n",
    "git bisect good\n",
    "2777975a2334c2396ccb9faf98ab149824ec465b is the first bad commit\n",
    "commit 2777975a2334c2396ccb9faf98ab149824ec465b\n",
    "Author: Shawn Siefkas <shawn.siefkas@meredith.com>\n",
    "Date:   Thu Nov 14 09:23:55 2013 -0600\n",
    "\n",
    "    Breaking argument type\n",
    "\n",
    "```"
   ]
  },
  {
   "cell_type": "markdown",
   "metadata": {},
   "source": [
    "``` bash\n",
    "git bisect end\n",
    "```"
   ]
  },
  {
   "cell_type": "markdown",
   "metadata": {},
   "source": [
    "## Solving automatically\n",
    "\n",
    "If we have an appropriate unit test, we can do all this automatically:"
   ]
  },
  {
   "cell_type": "code",
   "execution_count": 8,
   "metadata": {
    "attributes": {
     "classes": [
      " bash"
     ],
     "id": ""
    }
   },
   "outputs": [
    {
     "name": "stdout",
     "output_type": "stream",
     "text": [
      "Bisecting: 500 revisions left to test after this (roughly 9 steps)\n",
      "[2f82f9995bbbe7e434f734a7f070cbe9b49b5ab3] Comment 500\n",
      "running python squares.py 2\n",
      "4\n",
      "Bisecting: 250 revisions left to test after this (roughly 8 steps)\n",
      "[03aac440a9250f6df55a2bbc0d3837f34c475e06] Comment 749\n",
      "running python squares.py 2\n",
      "Bisecting: 124 revisions left to test after this (roughly 7 steps)\n",
      "[554b2f709372bc8193d4528c87613226e3faa958] Comment 625\n",
      "running python squares.py 2\n",
      "4\n",
      "Bisecting: 62 revisions left to test after this (roughly 6 steps)\n",
      "[e2aa5212f475b6fc833f840804ff92e815207f13] Comment 686\n",
      "running python squares.py 2\n",
      "Bisecting: 30 revisions left to test after this (roughly 5 steps)\n",
      "[c6640a2cc693ce7625acc127fc50ce086d956d4f] Comment 656\n",
      "running python squares.py 2\n",
      "4\n",
      "Bisecting: 15 revisions left to test after this (roughly 4 steps)\n",
      "[94eb17b64375923e583099e771a02c53e6d15c5b] Comment 671\n",
      "running python squares.py 2\n",
      "4\n",
      "Bisecting: 7 revisions left to test after this (roughly 3 steps)\n",
      "[6148433bbc320ea043e448584016706e13388753] Comment 678\n",
      "running python squares.py 2\n",
      "Bisecting: 3 revisions left to test after this (roughly 2 steps)\n",
      "[e896497254ff97195343e604be15b52e35bc1fda] Comment 675\n",
      "running python squares.py 2\n",
      "4\n",
      "Bisecting: 1 revision left to test after this (roughly 1 step)\n",
      "[c465fb8bb6087dabb0a50541d0dd2488140031a5] Comment 677\n",
      "running python squares.py 2\n",
      "4\n",
      "Bisecting: 0 revisions left to test after this (roughly 0 steps)\n",
      "[b14f3d9ed46a5bce22024f808683f2e936b3a559] Breaking argument type\n",
      "running python squares.py 2\n",
      "b14f3d9ed46a5bce22024f808683f2e936b3a559 is the first bad commit\n",
      "commit b14f3d9ed46a5bce22024f808683f2e936b3a559\n",
      "Author: Shawn Siefkas <shawn.siefkas@meredith.com>\n",
      "Date:   Thu Nov 14 09:23:55 2013 -0600\n",
      "\n",
      "    Breaking argument type\n",
      "\n",
      " squares.py | 2 +-\n",
      " 1 file changed, 1 insertion(+), 1 deletion(-)\n",
      "bisect run success\n"
     ]
    },
    {
     "name": "stderr",
     "output_type": "stream",
     "text": [
      "Previous HEAD position was 2f82f99 Comment 500\n",
      "Switched to branch 'buggy'\n",
      "Traceback (most recent call last):\n",
      "  File \"squares.py\", line 9, in <module>\n",
      "    print(integer**2)\n",
      "TypeError: unsupported operand type(s) for ** or pow(): 'str' and 'int'\n",
      "Traceback (most recent call last):\n",
      "  File \"squares.py\", line 9, in <module>\n",
      "    print(integer**2)\n",
      "TypeError: unsupported operand type(s) for ** or pow(): 'str' and 'int'\n",
      "Traceback (most recent call last):\n",
      "  File \"squares.py\", line 9, in <module>\n",
      "    print(integer**2)\n",
      "TypeError: unsupported operand type(s) for ** or pow(): 'str' and 'int'\n",
      "Traceback (most recent call last):\n",
      "  File \"squares.py\", line 9, in <module>\n",
      "    print(integer**2)\n",
      "TypeError: unsupported operand type(s) for ** or pow(): 'str' and 'int'\n"
     ]
    }
   ],
   "source": [
    "%%bash\n",
    "git bisect start\n",
    "git bisect bad HEAD # We know the current state is broken\n",
    "git bisect good master # We know master is good\n",
    "git bisect run python squares.py 2"
   ]
  },
  {
   "cell_type": "markdown",
   "metadata": {},
   "source": [
    "Boom!"
   ]
  }
 ],
 "metadata": {
  "jekyll": {
   "display_name": "Bisect"
  },
  "kernelspec": {
   "display_name": "Python 3 (ipykernel)",
   "language": "python",
   "name": "python3"
  },
  "language_info": {
   "codemirror_mode": {
    "name": "ipython",
    "version": 3
   },
   "file_extension": ".py",
   "mimetype": "text/x-python",
   "name": "python",
   "nbconvert_exporter": "python",
   "pygments_lexer": "ipython3",
   "version": "3.7.12"
  }
 },
 "nbformat": 4,
 "nbformat_minor": 1
}