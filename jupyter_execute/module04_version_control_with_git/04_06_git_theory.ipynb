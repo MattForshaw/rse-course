{
 "cells": [
  {
   "cell_type": "markdown",
   "metadata": {},
   "source": [
    "# Git Theory\n",
    "\n",
    "## The revision Graph\n",
    "\n",
    "Revisions form a **GRAPH**"
   ]
  },
  {
   "cell_type": "code",
   "execution_count": 1,
   "metadata": {},
   "outputs": [],
   "source": [
    "import os\n",
    "\n",
    "top_dir = os.getcwd()\n",
    "git_dir = os.path.join(top_dir, \"learning_git\")\n",
    "working_dir = os.path.join(git_dir, \"git_example\")\n",
    "os.chdir(working_dir)"
   ]
  },
  {
   "cell_type": "code",
   "execution_count": 2,
   "metadata": {},
   "outputs": [
    {
     "name": "stdout",
     "output_type": "stream",
     "text": [
      "*   e95d18b Merge branch 'main' of github.com:alan-turing-institute/github-example\n",
      "|\\  \n",
      "| * 9c4ed8a Add another Beacon\n",
      "* | 063e664 Add Glyder\n",
      "|/  \n",
      "*   c4bc576 Merge branch 'main' of github.com:alan-turing-institute/github-example\n",
      "|\\  \n",
      "| * 650c45a Add a beacon\n",
      "* | dbd8046 Translating from the Welsh\n",
      "|/  \n",
      "*   d56d1f3 Merge branch 'main' of github.com:alan-turing-institute/github-example\n",
      "|\\  \n",
      "| * d60bb4d Add Scotland\n",
      "* | 9fdfcec Add wales\n",
      "|/  \n",
      "* 86209d8 Add Helvellyn\n",
      "* f6deb94 Include lakes in the scope\n",
      "* c343b11 Add lakeland\n",
      "* 3ccd3a1 Revert \"Add a lie about a mountain\"\n",
      "* 8e1c232 Change title\n",
      "* 0f7cc16 Add a lie about a mountain\n",
      "* 6ed388c First commit of discourse on UK topography\n"
     ]
    }
   ],
   "source": [
    "%%bash\n",
    "git log --graph --oneline"
   ]
  },
  {
   "cell_type": "markdown",
   "metadata": {},
   "source": [
    "## Git concepts\n",
    "\n",
    "* Each revision has a parent that it is based on\n",
    "* These revisions form a graph\n",
    "* Each revision has a unique hash code\n",
    "  * In Sue's copy, revision 43 is ab3578d6\n",
    "  * Jim might think that is revision 38, but it's still ab3579d6\n",
    "* Branches, tags, and HEAD are *labels* pointing at revisions\n",
    "* Some operations (like fast forward merges) just move labels."
   ]
  },
  {
   "cell_type": "markdown",
   "metadata": {},
   "source": [
    "## The levels of Git"
   ]
  },
  {
   "cell_type": "markdown",
   "metadata": {},
   "source": [
    "There are four **Separate** levels a change can reach in git:"
   ]
  },
  {
   "cell_type": "markdown",
   "metadata": {},
   "source": [
    "* The Working Copy\n",
    "* The **index** (aka **staging area**)\n",
    "* The local repository\n",
    "* The remote repository"
   ]
  },
  {
   "cell_type": "markdown",
   "metadata": {},
   "source": [
    "Understanding all the things `git reset` can do requires a good\n",
    "grasp of git theory."
   ]
  },
  {
   "cell_type": "markdown",
   "metadata": {
    "collapsed": true
   },
   "source": [
    "* `git reset <commit> <filename>` : Reset index and working version of that file to the version in a given commit\n",
    "* `git reset --soft <commit>`: Move local repository branch label to that commit, leave working dir and index unchanged\n",
    "* `git reset <commit>`: Move local repository and index to commit (\"--mixed\")\n",
    "* `git reset --hard <commit>`: Move local repostiory, index, and working directory copy to that state"
   ]
  }
 ],
 "metadata": {
  "jekyll": {
   "display_name": "Git Theory"
  },
  "kernelspec": {
   "display_name": "Python 3 (ipykernel)",
   "language": "python",
   "name": "python3"
  },
  "language_info": {
   "codemirror_mode": {
    "name": "ipython",
    "version": 3
   },
   "file_extension": ".py",
   "mimetype": "text/x-python",
   "name": "python",
   "nbconvert_exporter": "python",
   "pygments_lexer": "ipython3",
   "version": "3.7.12"
  }
 },
 "nbformat": 4,
 "nbformat_minor": 1
}